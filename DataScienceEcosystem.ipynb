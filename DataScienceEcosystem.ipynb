{
 "cells": [
  {
   "cell_type": "code",
   "execution_count": null,
   "id": "2bee3ce6-8894-48a7-8dbb-395b43eb104f",
   "metadata": {},
   "outputs": [],
   "source": []
  },
  {
   "cell_type": "markdown",
   "id": "6c6f9d2b-81e5-464e-8113-c78988ce9674",
   "metadata": {},
   "source": [
    "# H1: Data Science Tools and Ecosystem"
   ]
  },
  {
   "cell_type": "markdown",
   "id": "0394ca3f-ceb7-406b-b8fa-e19a4bd04e89",
   "metadata": {},
   "source": [
    "In this notebook, Data Science Tools and Ecosystem are summarized."
   ]
  },
  {
   "cell_type": "markdown",
   "id": "081adfad-6f2b-40e1-bc4c-96d1b455daf2",
   "metadata": {},
   "source": [
    "**Objectives:**\n",
    "- Summarization of Data Science Tools and Ecosystems.\n",
    "- List of popular languages in Data Science.\n",
    "- List of commonly used libraries in Data Science.\n",
    "- Arithmetic expressions in Python.\n",
    "- Elaboration of tables in Python.\n",
    "- How to create bold text and italics.\n",
    "- How to create ordered and unordered lists in Python."
   ]
  },
  {
   "cell_type": "markdown",
   "id": "41327e7c-1c20-4240-a7b9-449677c8696b",
   "metadata": {},
   "source": [
    "Some of the popular languages that Data Scientists use are:\n",
    "1) Python\n",
    "2) R\n",
    "3) SQL\n",
    "4) Scala\n",
    "5) Java\n",
    "6) C++\n",
    "7) Julia\n",
    "8) JavaScript\n",
    "9) Go\n",
    "10) Visual Basic"
   ]
  },
  {
   "cell_type": "markdown",
   "id": "7d165835-c7ca-4128-bb2d-cf400057d7f3",
   "metadata": {},
   "source": [
    "Some of the commonly used libraries used by Data Scientists include:\n",
    "1) Scientific computing libraries in Python (Pandas, NumPy)\n",
    "2) Visualization libraries in Python (Matplotlib, Seaborn)\n",
    "3) Machine learning libraries (Scikit-learn)\n",
    "4) Deep learning libraries (Keras, TensorFlow)\n",
    "5) Libraries used in other languages (Pytorch, Apache Spark)"
   ]
  },
  {
   "attachments": {},
   "cell_type": "markdown",
   "id": "e29d11e6-c08f-420b-b3f4-5946693c2c36",
   "metadata": {},
   "source": [
    "| Data Science Tools |\n",
    "| ----------------- |\n",
    "| Jupyter Notebooks |\n",
    "| JupyterLab |\n",
    "| Apache Zeppelin |\n",
    "| RStudio |\n",
    "| Spyder |"
   ]
  },
  {
   "cell_type": "markdown",
   "id": "768073e6-d43c-4c75-b9fa-593f0c7c7a7e",
   "metadata": {},
   "source": [
    "### H3: Below are a few examples of evaluating arithmetic expressions in Python"
   ]
  },
  {
   "cell_type": "code",
   "execution_count": 1,
   "id": "8c20c870-243d-4903-bdd4-241191749151",
   "metadata": {},
   "outputs": [
    {
     "name": "stdout",
     "output_type": "stream",
     "text": [
      "This is a simple arithmetic expression to multiply then add integers\n"
     ]
    },
    {
     "data": {
      "text/plain": [
       "17"
      ]
     },
     "execution_count": 1,
     "metadata": {},
     "output_type": "execute_result"
    }
   ],
   "source": [
    "print(\"This is a simple arithmetic expression to multiply then add integers\")\n",
    "(3*4)+5"
   ]
  },
  {
   "cell_type": "code",
   "execution_count": 2,
   "id": "b3a5e425-6c4f-464f-a8b3-45e93fddb9c5",
   "metadata": {},
   "outputs": [
    {
     "name": "stdout",
     "output_type": "stream",
     "text": [
      "This will convert 200 minutes to hours by diving by 60\n"
     ]
    },
    {
     "data": {
      "text/plain": [
       "3.3333333333333335"
      ]
     },
     "execution_count": 2,
     "metadata": {},
     "output_type": "execute_result"
    }
   ],
   "source": [
    "print(\"This will convert 200 minutes to hours by diving by 60\")\n",
    "200/60"
   ]
  },
  {
   "cell_type": "markdown",
   "id": "a33003d4-be92-485d-9c69-59cd9c25fb9c",
   "metadata": {},
   "source": [
    "## Author\n",
    "Pablo Ceballos-Guevara"
   ]
  }
 ],
 "metadata": {
  "kernelspec": {
   "display_name": "Python 3 (ipykernel)",
   "language": "python",
   "name": "python3"
  },
  "language_info": {
   "codemirror_mode": {
    "name": "ipython",
    "version": 3
   },
   "file_extension": ".py",
   "mimetype": "text/x-python",
   "name": "python",
   "nbconvert_exporter": "python",
   "pygments_lexer": "ipython3",
   "version": "3.11.9"
  }
 },
 "nbformat": 4,
 "nbformat_minor": 5
}
